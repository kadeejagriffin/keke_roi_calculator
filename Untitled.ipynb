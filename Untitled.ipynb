{
 "cells": [
  {
   "cell_type": "code",
   "execution_count": 1,
   "id": "98bca06a",
   "metadata": {},
   "outputs": [
    {
     "name": "stdout",
     "output_type": "stream",
     "text": [
      "Welcome to your ROI Calculator: \n",
      "===============================\n"
     ]
    }
   ],
   "source": [
    "class RentalProperty:\n",
    "    print('Welcome to your ROI Calculator: \\n===============================')\n",
    "    def __init__(self, income, expenses):\n",
    "        income = float(input('Enter your monthy income: '))\n",
    "        expenses = float(input('Enter your monthly expenses: '))\n",
    "        self.income = income\n",
    "        self.expenses = expenses\n",
    "        self.cash_flow()\n",
    "        \n",
    "    def cash_flow(self, cash_flow):\n",
    "        self.cash_flow = self.income - self.expenses\n",
    "        return cash_flow\n",
    "    \n",
    "    def calculate_roi(self,total_investment):\n",
    "        total_investment = float(input('Enter your total investment amount: '))\n",
    "        annual_cash_flow = cash_flow * 12\n",
    "        roi = (annual_cash_flow / total_investment) * 100\n",
    "        return f\"{roi:.2f}%\"\n",
    "         \n",
    "        \n",
    "    \n",
    "\n"
   ]
  },
  {
   "cell_type": "code",
   "execution_count": null,
   "id": "77f87c28",
   "metadata": {},
   "outputs": [],
   "source": []
  },
  {
   "cell_type": "code",
   "execution_count": null,
   "id": "466aa6b9",
   "metadata": {},
   "outputs": [],
   "source": []
  },
  {
   "cell_type": "code",
   "execution_count": null,
   "id": "b98ae8f1",
   "metadata": {},
   "outputs": [],
   "source": []
  }
 ],
 "metadata": {
  "kernelspec": {
   "display_name": "Python 3 (ipykernel)",
   "language": "python",
   "name": "python3"
  },
  "language_info": {
   "codemirror_mode": {
    "name": "ipython",
    "version": 3
   },
   "file_extension": ".py",
   "mimetype": "text/x-python",
   "name": "python",
   "nbconvert_exporter": "python",
   "pygments_lexer": "ipython3",
   "version": "3.11.5"
  }
 },
 "nbformat": 4,
 "nbformat_minor": 5
}
